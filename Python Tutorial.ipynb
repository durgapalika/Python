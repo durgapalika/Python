{
 "cells": [
  {
   "cell_type": "markdown",
   "id": "93c2368f-3356-45c3-be3a-e79775ff14cc",
   "metadata": {},
   "source": [
    "# Python Tutorial"
   ]
  },
  {
   "cell_type": "markdown",
   "id": "b767a79d-3319-4047-895a-7f3f59f0f6d5",
   "metadata": {},
   "source": [
    "- Python is one of the most beginner-friendly and powerful programming languages. <br>\n",
    "- general purpose programming language used for web development, data analysis and many more<br>\n",
    "- It's easy to learn and has simple syntax<br>\n",
    "- Very powerful, used in Data science, Machine learning and AI<br>\n",
    "- Huge community and lots of free resources"
   ]
  },
  {
   "cell_type": "markdown",
   "id": "1aa19708-93b4-48a4-9e78-71915200f9fe",
   "metadata": {},
   "source": [
    "## Basics"
   ]
  },
  {
   "cell_type": "code",
   "execution_count": 2,
   "id": "a627f848-d605-4fe8-9934-78d43dc6a1d3",
   "metadata": {},
   "outputs": [],
   "source": [
    "# This is a comment"
   ]
  },
  {
   "cell_type": "code",
   "execution_count": 3,
   "id": "9e14d48f-2aa1-4927-b08c-bc209c407207",
   "metadata": {},
   "outputs": [
    {
     "name": "stdout",
     "output_type": "stream",
     "text": [
      "Print something here\n"
     ]
    }
   ],
   "source": [
    "print(\"Print something here\")"
   ]
  },
  {
   "cell_type": "markdown",
   "id": "d95b9a4b-8282-4625-bfba-a448055b014c",
   "metadata": {},
   "source": [
    "## Data Types"
   ]
  },
  {
   "cell_type": "markdown",
   "id": "cf8f73c1-e328-4035-b136-d502163fd707",
   "metadata": {},
   "source": [
    "- Numeric types\n",
    "   * int\n",
    "   * float\n",
    "   * complex\n",
    "- String\n",
    "   * str\n",
    "- Sequence\n",
    "   * list\n",
    "   * tuple\n",
    "   * range\n",
    "- Mapping\n",
    "   * dict\n",
    "- Boolean\n",
    "   * bool"
   ]
  },
  {
   "cell_type": "markdown",
   "id": "14bf9fa5-e0d0-4f2a-afa7-e219072d4e28",
   "metadata": {},
   "source": [
    "### General data types"
   ]
  },
  {
   "cell_type": "code",
   "execution_count": 5,
   "id": "f92e599f-5fbb-48c2-9acb-73c36c18acd9",
   "metadata": {},
   "outputs": [
    {
     "name": "stdout",
     "output_type": "stream",
     "text": [
      "20\n",
      "<class 'int'>\n"
     ]
    }
   ],
   "source": [
    "x = 20\n",
    "print(x)\n",
    "print(type(x))"
   ]
  },
  {
   "cell_type": "code",
   "execution_count": 6,
   "id": "a4c2dad2-d0d8-4eda-a74c-5c94a648be26",
   "metadata": {},
   "outputs": [
    {
     "name": "stdout",
     "output_type": "stream",
     "text": [
      "20.5\n",
      "<class 'float'>\n"
     ]
    }
   ],
   "source": [
    "x = 20.5\n",
    "print(x)\n",
    "print(type(x))"
   ]
  },
  {
   "cell_type": "code",
   "execution_count": 7,
   "id": "eec55d98-89ee-475a-8adb-fc629eee69e4",
   "metadata": {},
   "outputs": [
    {
     "name": "stdout",
     "output_type": "stream",
     "text": [
      "20\n",
      "<class 'str'>\n"
     ]
    }
   ],
   "source": [
    "x = '20'\n",
    "print(x)\n",
    "print(type(x))"
   ]
  },
  {
   "cell_type": "code",
   "execution_count": 8,
   "id": "7edb126a-3ec8-4d6f-a00c-6984e3656659",
   "metadata": {},
   "outputs": [
    {
     "name": "stdout",
     "output_type": "stream",
     "text": [
      "True\n",
      "<class 'bool'>\n"
     ]
    }
   ],
   "source": [
    "x = True\n",
    "print(x)\n",
    "print(type(x))"
   ]
  },
  {
   "cell_type": "code",
   "execution_count": 10,
   "id": "34d3face-813f-4517-a2b5-58a4d2a46b71",
   "metadata": {},
   "outputs": [
    {
     "name": "stdout",
     "output_type": "stream",
     "text": [
      "(5+7j)\n",
      "<class 'complex'>\n",
      "(9+17j)\n"
     ]
    }
   ],
   "source": [
    "x = 5 + 7j\n",
    "y = 4 + 10j\n",
    "print(x)\n",
    "print(type(x))\n",
    "print(x + y)"
   ]
  },
  {
   "cell_type": "markdown",
   "id": "3722ebb4-5b0a-4d67-a821-79d708a68f1d",
   "metadata": {},
   "source": [
    "### List"
   ]
  },
  {
   "cell_type": "code",
   "execution_count": 11,
   "id": "2f7a9f24-f3ac-4072-a1f4-85542d54d04e",
   "metadata": {},
   "outputs": [
    {
     "name": "stdout",
     "output_type": "stream",
     "text": [
      "[1, 2, 3, 4]\n",
      "<class 'list'>\n"
     ]
    }
   ],
   "source": [
    "# list is a collection of items\n",
    "# list can have items of different datatypes\n",
    "# lists are index based and mutable/changeble\n",
    "a = [1,2,3,4]\n",
    "print(a)\n",
    "print(type(a))"
   ]
  },
  {
   "cell_type": "code",
   "execution_count": 12,
   "id": "9784ac69-2453-433f-a28d-3d887b18afff",
   "metadata": {},
   "outputs": [
    {
     "name": "stdout",
     "output_type": "stream",
     "text": [
      "['Red', 'Blue', 'Green']\n",
      "<class 'list'>\n"
     ]
    }
   ],
   "source": [
    "a = ['Red','Blue','Green']\n",
    "print(a)\n",
    "print(type(a))"
   ]
  },
  {
   "cell_type": "code",
   "execution_count": 13,
   "id": "7aed5b2b-45d4-48b9-a185-079dfdff1dad",
   "metadata": {},
   "outputs": [
    {
     "name": "stdout",
     "output_type": "stream",
     "text": [
      "['Red', 2, 'Green']\n",
      "<class 'list'>\n"
     ]
    }
   ],
   "source": [
    "a = ['Red',2,'Green']\n",
    "print(a)\n",
    "print(type(a))"
   ]
  },
  {
   "cell_type": "code",
   "execution_count": 15,
   "id": "50a2f55b-c6a0-4b22-a6b5-c46ca4f79156",
   "metadata": {},
   "outputs": [
    {
     "name": "stdout",
     "output_type": "stream",
     "text": [
      "2\n"
     ]
    }
   ],
   "source": [
    "print(a[1])"
   ]
  },
  {
   "cell_type": "code",
   "execution_count": 16,
   "id": "9f005471-9195-42b3-84da-4617bb69c6c9",
   "metadata": {},
   "outputs": [
    {
     "name": "stdout",
     "output_type": "stream",
     "text": [
      "['Blue', 2, 'Green']\n"
     ]
    }
   ],
   "source": [
    "a[0]='Blue'\n",
    "print(a)"
   ]
  },
  {
   "cell_type": "code",
   "execution_count": 17,
   "id": "588df844-936a-44b5-b6b9-4e00f762f560",
   "metadata": {},
   "outputs": [
    {
     "name": "stdout",
     "output_type": "stream",
     "text": [
      "3\n"
     ]
    }
   ],
   "source": [
    "print(len(a))"
   ]
  },
  {
   "cell_type": "code",
   "execution_count": 18,
   "id": "97437f65-a31c-48c6-b449-94765e5fa937",
   "metadata": {},
   "outputs": [
    {
     "data": {
      "text/plain": [
       "['Blue', 2, 'Green', 'Brown']"
      ]
     },
     "execution_count": 18,
     "metadata": {},
     "output_type": "execute_result"
    }
   ],
   "source": [
    "a.append('Brown')\n",
    "a"
   ]
  },
  {
   "cell_type": "code",
   "execution_count": 19,
   "id": "2132c67d-6197-4854-af59-c1f6d5ad2e51",
   "metadata": {},
   "outputs": [
    {
     "data": {
      "text/plain": [
       "['Blue', 2, 'Green']"
      ]
     },
     "execution_count": 19,
     "metadata": {},
     "output_type": "execute_result"
    }
   ],
   "source": [
    "a.remove('Brown')\n",
    "a"
   ]
  },
  {
   "cell_type": "code",
   "execution_count": 25,
   "id": "d3caeb9f-11b6-483d-9946-c5bd987d1a40",
   "metadata": {},
   "outputs": [],
   "source": [
    "b = a.reverse()\n",
    "b"
   ]
  },
  {
   "cell_type": "code",
   "execution_count": 28,
   "id": "99a9aaa1-1e84-403a-8560-348be9724993",
   "metadata": {},
   "outputs": [
    {
     "data": {
      "text/plain": [
       "['Blue', 'Red', 'Red']"
      ]
     },
     "execution_count": 28,
     "metadata": {},
     "output_type": "execute_result"
    }
   ],
   "source": [
    "a[1] = 'Red'\n",
    "a.sort()\n",
    "a"
   ]
  },
  {
   "cell_type": "markdown",
   "id": "159938a9-0dab-4194-bef2-7069e7828822",
   "metadata": {},
   "source": [
    "### Tuple"
   ]
  },
  {
   "cell_type": "code",
   "execution_count": 31,
   "id": "afcd055b-d173-4377-a18c-50aa335cd67a",
   "metadata": {},
   "outputs": [
    {
     "name": "stdout",
     "output_type": "stream",
     "text": [
      "(1, 2, 3, 4)\n",
      "<class 'tuple'>\n"
     ]
    }
   ],
   "source": [
    "# tuple is a collection of items\n",
    "# tuple can have items of different datatypes\n",
    "# tuple are index based and immutable/ not changeble\n",
    "a = (1,2,3,4)\n",
    "print(a)\n",
    "print(type(a))"
   ]
  },
  {
   "cell_type": "code",
   "execution_count": 33,
   "id": "dcca43ae-f908-4411-a4fb-c8987ad4e482",
   "metadata": {},
   "outputs": [
    {
     "data": {
      "text/plain": [
       "4"
      ]
     },
     "execution_count": 33,
     "metadata": {},
     "output_type": "execute_result"
    }
   ],
   "source": [
    "a[3]"
   ]
  },
  {
   "cell_type": "code",
   "execution_count": 34,
   "id": "2be49bef-6f73-41d2-bed2-e781c8c64fab",
   "metadata": {},
   "outputs": [
    {
     "ename": "TypeError",
     "evalue": "'tuple' object does not support item assignment",
     "output_type": "error",
     "traceback": [
      "\u001b[1;31m---------------------------------------------------------------------------\u001b[0m",
      "\u001b[1;31mTypeError\u001b[0m                                 Traceback (most recent call last)",
      "Cell \u001b[1;32mIn[34], line 1\u001b[0m\n\u001b[1;32m----> 1\u001b[0m \u001b[43ma\u001b[49m\u001b[43m[\u001b[49m\u001b[38;5;241;43m1\u001b[39;49m\u001b[43m]\u001b[49m \u001b[38;5;241m=\u001b[39m \u001b[38;5;241m5\u001b[39m\n",
      "\u001b[1;31mTypeError\u001b[0m: 'tuple' object does not support item assignment"
     ]
    }
   ],
   "source": [
    "a[1] = 5"
   ]
  },
  {
   "cell_type": "markdown",
   "id": "e912b110-8966-4d0e-9794-d67deb37d9f5",
   "metadata": {},
   "source": [
    "### Dictionary"
   ]
  },
  {
   "cell_type": "code",
   "execution_count": 35,
   "id": "a1c34b59-7b72-4c28-84f2-68a36201dfd2",
   "metadata": {},
   "outputs": [
    {
     "name": "stdout",
     "output_type": "stream",
     "text": [
      "{1: 'Blue', 2: 'Green', 3: 'Red'}\n",
      "<class 'dict'>\n"
     ]
    }
   ],
   "source": [
    "# dict is collection of key/value pairs\n",
    "# value of dict can be accesses by keys\n",
    "# dict is mutable\n",
    "a = {1:\"Blue\",2:\"Green\",3:\"Red\"}\n",
    "print(a)\n",
    "print(type(a))"
   ]
  },
  {
   "cell_type": "code",
   "execution_count": 37,
   "id": "9aea6867-1cac-4c14-80fb-208f416ecd94",
   "metadata": {},
   "outputs": [
    {
     "data": {
      "text/plain": [
       "'Red'"
      ]
     },
     "execution_count": 37,
     "metadata": {},
     "output_type": "execute_result"
    }
   ],
   "source": [
    "a[3]"
   ]
  },
  {
   "cell_type": "code",
   "execution_count": 38,
   "id": "fc7ea3df-d7de-4797-8e6b-085220cb48a6",
   "metadata": {},
   "outputs": [
    {
     "name": "stdout",
     "output_type": "stream",
     "text": [
      "{1: 'Blue', 2: 5, 3: 'Red'}\n"
     ]
    }
   ],
   "source": [
    "a[2] = 5\n",
    "print(a)"
   ]
  },
  {
   "cell_type": "code",
   "execution_count": 39,
   "id": "8b494a6e-cd38-4b89-a4fd-f2ed935c4786",
   "metadata": {},
   "outputs": [
    {
     "data": {
      "text/plain": [
       "dict_keys([1, 2, 3])"
      ]
     },
     "execution_count": 39,
     "metadata": {},
     "output_type": "execute_result"
    }
   ],
   "source": [
    "a.keys()"
   ]
  },
  {
   "cell_type": "code",
   "execution_count": 40,
   "id": "e2a35b62-c931-412c-9fce-e36684e11fe0",
   "metadata": {},
   "outputs": [
    {
     "data": {
      "text/plain": [
       "dict_items([(1, 'Blue'), (2, 5), (3, 'Red')])"
      ]
     },
     "execution_count": 40,
     "metadata": {},
     "output_type": "execute_result"
    }
   ],
   "source": [
    "a.items()"
   ]
  },
  {
   "cell_type": "markdown",
   "id": "21dd9982-42eb-4b00-a38c-4f09f0ce14b9",
   "metadata": {},
   "source": [
    "## String functions"
   ]
  },
  {
   "cell_type": "code",
   "execution_count": 41,
   "id": "b67bb8e1-02a2-4257-98d2-e47475bab534",
   "metadata": {},
   "outputs": [
    {
     "data": {
      "text/plain": [
       "('John', 30)"
      ]
     },
     "execution_count": 41,
     "metadata": {},
     "output_type": "execute_result"
    }
   ],
   "source": [
    "name, age = \"John\", 30\n",
    "name,age"
   ]
  },
  {
   "cell_type": "code",
   "execution_count": 43,
   "id": "87ff8021-ab7b-4888-9bfc-82b9a6ee6db2",
   "metadata": {},
   "outputs": [
    {
     "name": "stdout",
     "output_type": "stream",
     "text": [
      "Hello, I am John\n"
     ]
    }
   ],
   "source": [
    "# concatenation\n",
    "print(\"Hello, I am \" + name)"
   ]
  },
  {
   "cell_type": "code",
   "execution_count": 45,
   "id": "e079ca93-a1b0-4cbd-bf05-749301eff28d",
   "metadata": {},
   "outputs": [
    {
     "name": "stdout",
     "output_type": "stream",
     "text": [
      "Hello I am John, and I am 30 years old\n"
     ]
    }
   ],
   "source": [
    "# concatenate string with int\n",
    "print(\"Hello I am \" + name + \", and I am \" + str(age) + \" years old\")"
   ]
  },
  {
   "cell_type": "code",
   "execution_count": 48,
   "id": "ea455db0-77f1-4002-912e-36c740c1f062",
   "metadata": {},
   "outputs": [
    {
     "name": "stdout",
     "output_type": "stream",
     "text": [
      "Hello I am John, and I am 30 years old\n"
     ]
    }
   ],
   "source": [
    "# concatenate by arguments\n",
    "print(\"Hello I am {first_name}, and I am {age} years old\".format(first_name=name,age=age))"
   ]
  },
  {
   "cell_type": "code",
   "execution_count": 49,
   "id": "21707ebb-f90d-482a-a287-71837194e6b5",
   "metadata": {},
   "outputs": [
    {
     "name": "stdout",
     "output_type": "stream",
     "text": [
      "Hello I am John, and I am 30 years old\n"
     ]
    }
   ],
   "source": [
    "# concatenate using f string\n",
    "print(f\"Hello I am {name}, and I am {age} years old\")"
   ]
  },
  {
   "cell_type": "code",
   "execution_count": 50,
   "id": "3368224e-d22b-4c19-902e-d383a7fd2f93",
   "metadata": {},
   "outputs": [
    {
     "name": "stdout",
     "output_type": "stream",
     "text": [
      "Hello world\n"
     ]
    }
   ],
   "source": [
    "# capitalize\n",
    "print(\"hello world\".capitalize())"
   ]
  },
  {
   "cell_type": "code",
   "execution_count": 51,
   "id": "37ded4d2-ffb5-46bb-9a0f-ee7ad643bc37",
   "metadata": {},
   "outputs": [
    {
     "name": "stdout",
     "output_type": "stream",
     "text": [
      "HELLO WORLD\n"
     ]
    }
   ],
   "source": [
    "# upper case\n",
    "print(\"hello world\".upper())"
   ]
  },
  {
   "cell_type": "code",
   "execution_count": 52,
   "id": "7affef46-fa34-49a4-9e1c-a6b1ec51eb56",
   "metadata": {},
   "outputs": [
    {
     "name": "stdout",
     "output_type": "stream",
     "text": [
      "hello world\n"
     ]
    }
   ],
   "source": [
    "# lower\n",
    "print(\"HELLO WORLD\".lower())"
   ]
  },
  {
   "cell_type": "code",
   "execution_count": 53,
   "id": "36e47f72-81dd-4c11-ac7b-eb503cb0e581",
   "metadata": {},
   "outputs": [
    {
     "name": "stdout",
     "output_type": "stream",
     "text": [
      "hEllo WOrLD\n"
     ]
    }
   ],
   "source": [
    "# swap case\n",
    "print(\"HeLLO woRld\".swapcase())"
   ]
  },
  {
   "cell_type": "code",
   "execution_count": 54,
   "id": "8748b61e-1700-42c4-a805-5dd32a27f0f5",
   "metadata": {},
   "outputs": [
    {
     "name": "stdout",
     "output_type": "stream",
     "text": [
      "11\n"
     ]
    }
   ],
   "source": [
    "# length\n",
    "print(len(\"HELLO WORLD\"))"
   ]
  },
  {
   "cell_type": "code",
   "execution_count": 56,
   "id": "1bb68b5d-623c-46f9-b6b8-2f7606aba952",
   "metadata": {},
   "outputs": [
    {
     "name": "stdout",
     "output_type": "stream",
     "text": [
      "Hello allld\n"
     ]
    }
   ],
   "source": [
    "# replace, case sensitive\n",
    "print(\"Hello world\".replace(\"wor\",\"all\"))"
   ]
  },
  {
   "cell_type": "code",
   "execution_count": 60,
   "id": "b982181a-0597-4570-8b6a-39ff4f521cd4",
   "metadata": {},
   "outputs": [
    {
     "name": "stdout",
     "output_type": "stream",
     "text": [
      "True\n"
     ]
    }
   ],
   "source": [
    "# starts with, case sensitive\n",
    "print(\"Hello world\".startswith(\"Hel\"))"
   ]
  },
  {
   "cell_type": "code",
   "execution_count": 61,
   "id": "d82ae874-31cf-4cc9-b693-b6b096ce21fb",
   "metadata": {},
   "outputs": [
    {
     "name": "stdout",
     "output_type": "stream",
     "text": [
      "True\n"
     ]
    }
   ],
   "source": [
    "# ends with, case sensitive\n",
    "print(\"Hello world\".endswith(\"world\"))"
   ]
  },
  {
   "cell_type": "code",
   "execution_count": 65,
   "id": "297c29ee-eb26-4ee1-8481-4c294977a97e",
   "metadata": {},
   "outputs": [
    {
     "name": "stdout",
     "output_type": "stream",
     "text": [
      "['Hello', 'world world']\n"
     ]
    }
   ],
   "source": [
    "# split, default delimeter is space\n",
    "print(\"Hello,world world\".split(\",\"))"
   ]
  },
  {
   "cell_type": "code",
   "execution_count": 69,
   "id": "e3447a1f-eddc-49be-beb7-4f6d7c8966de",
   "metadata": {},
   "outputs": [
    {
     "name": "stdout",
     "output_type": "stream",
     "text": [
      "-1\n"
     ]
    }
   ],
   "source": [
    "# position, 0 based index, case-sensitive\n",
    "print(\"Hello world\".find(\"y\"))"
   ]
  },
  {
   "cell_type": "code",
   "execution_count": 73,
   "id": "05171665-bd21-45ad-ac74-e567bcb1410b",
   "metadata": {},
   "outputs": [
    {
     "name": "stdout",
     "output_type": "stream",
     "text": [
      "True\n"
     ]
    }
   ],
   "source": [
    "# is string made up of alphabets\n",
    "print(\"Helloworld\".isalpha())"
   ]
  },
  {
   "cell_type": "code",
   "execution_count": 74,
   "id": "99ddb0fe-1c43-40ff-bfa2-d612d74d162a",
   "metadata": {},
   "outputs": [
    {
     "name": "stdout",
     "output_type": "stream",
     "text": [
      "True\n"
     ]
    }
   ],
   "source": [
    "# is string made up of numbers\n",
    "print(\"123446\".isnumeric())"
   ]
  },
  {
   "cell_type": "code",
   "execution_count": 76,
   "id": "8b5acb2e-8217-449c-8134-37807142a944",
   "metadata": {},
   "outputs": [
    {
     "name": "stdout",
     "output_type": "stream",
     "text": [
      "False\n"
     ]
    }
   ],
   "source": [
    "# is string made up of alpha numeric\n",
    "print(\"abcde123446\".isalnum())"
   ]
  },
  {
   "cell_type": "markdown",
   "id": "36164b1b-8ef9-447b-8f4a-f1b087fa0013",
   "metadata": {},
   "source": [
    "## Conditionals"
   ]
  },
  {
   "cell_type": "code",
   "execution_count": 78,
   "id": "ed8f5120-fd95-46c5-bd11-0a2e45fbb818",
   "metadata": {},
   "outputs": [
    {
     "name": "stdout",
     "output_type": "stream",
     "text": [
      "10 20\n"
     ]
    }
   ],
   "source": [
    "x , y = 10, 20\n",
    "print(x,y)"
   ]
  },
  {
   "cell_type": "code",
   "execution_count": 83,
   "id": "73bc1a04-619d-4150-a42e-589782abd5db",
   "metadata": {},
   "outputs": [
    {
     "name": "stdout",
     "output_type": "stream",
     "text": [
      "this will print anyway\n"
     ]
    }
   ],
   "source": [
    "# simple if condition\n",
    "if x > 11:\n",
    "    print(\"x is greater than 1\")\n",
    "    print(\"this will print anyway\")"
   ]
  },
  {
   "cell_type": "code",
   "execution_count": 84,
   "id": "86fa5740-661d-4e86-9aaf-186593377f42",
   "metadata": {},
   "outputs": [
    {
     "name": "stdout",
     "output_type": "stream",
     "text": [
      "x is greater than or equal to 1\n"
     ]
    }
   ],
   "source": [
    "if x < 1:\n",
    "    print(\"x is less than 1\")\n",
    "else:\n",
    "    print(\"x is greater than or equal to 1\")"
   ]
  },
  {
   "cell_type": "code",
   "execution_count": 86,
   "id": "dd128443-8916-4980-a643-e4e4d5e37e56",
   "metadata": {},
   "outputs": [
    {
     "data": {
      "text/plain": [
       "10"
      ]
     },
     "execution_count": 86,
     "metadata": {},
     "output_type": "execute_result"
    }
   ],
   "source": [
    "# tennary condition\n",
    "x if x < y else y"
   ]
  },
  {
   "cell_type": "code",
   "execution_count": 87,
   "id": "dfc0ed5b-d15a-4a1b-be9f-65e190edd30a",
   "metadata": {},
   "outputs": [
    {
     "name": "stdout",
     "output_type": "stream",
     "text": [
      "x is greater than 1\n"
     ]
    }
   ],
   "source": [
    "if x < 1:\n",
    "    print(\"x is less than 1\")\n",
    "elif x == 1:\n",
    "    print(\"x is equal to 1\")\n",
    "else:\n",
    "    print(\"x is greater than 1\")"
   ]
  },
  {
   "cell_type": "code",
   "execution_count": 88,
   "id": "f11dd2e0-1968-445f-b477-02f4e9f1a5f6",
   "metadata": {},
   "outputs": [
    {
     "name": "stdout",
     "output_type": "stream",
     "text": [
      "not equal\n"
     ]
    }
   ],
   "source": [
    "if x != y:\n",
    "    print(\"not equal\")"
   ]
  },
  {
   "cell_type": "code",
   "execution_count": 89,
   "id": "9b9604b6-724d-41b4-be8c-19d89f653c49",
   "metadata": {},
   "outputs": [
    {
     "name": "stdout",
     "output_type": "stream",
     "text": [
      "equal\n"
     ]
    }
   ],
   "source": [
    "if not x == y:\n",
    "    print(\"equal\")"
   ]
  },
  {
   "cell_type": "code",
   "execution_count": 90,
   "id": "73925f8b-7d3d-4421-a0ef-a8f356092288",
   "metadata": {},
   "outputs": [
    {
     "name": "stdout",
     "output_type": "stream",
     "text": [
      "x is greater than 5 and 7\n"
     ]
    }
   ],
   "source": [
    "# logical operators\n",
    "if x > 5 and x > 7:\n",
    "    print(\"x is greater than 5 and 7\")"
   ]
  },
  {
   "cell_type": "raw",
   "id": "662aa1be-40e1-4a16-aa82-4a9e242c84a4",
   "metadata": {},
   "source": [
    "if x > 5 or x > 7:\n",
    "    print(\"x is greater than 5 or 7\")"
   ]
  },
  {
   "cell_type": "code",
   "execution_count": 92,
   "id": "10f46cba-6a5e-44b6-8bb9-12b1ea776ecc",
   "metadata": {},
   "outputs": [
    {
     "name": "stdout",
     "output_type": "stream",
     "text": [
      "x is greater than 5\n",
      "x is greater than 10\n"
     ]
    }
   ],
   "source": [
    "# nested if\n",
    "if x > 5:\n",
    "    print(\"x is greater than 5\")\n",
    "    if x > 9:\n",
    "        print(\"x is greater than 10\")"
   ]
  },
  {
   "cell_type": "code",
   "execution_count": 95,
   "id": "0b2d66d5-7683-4074-81dd-8b6f842da33a",
   "metadata": {},
   "outputs": [
    {
     "name": "stdout",
     "output_type": "stream",
     "text": [
      "a is not b\n"
     ]
    }
   ],
   "source": [
    "a = [\"apple\", \"banana\", \"cherry\"]\n",
    "# b = [\"apple\", \"banana\", \"cherry\"]\n",
    "# b = a\n",
    "\n",
    "b = a.copy()\n",
    "if a is b:\n",
    "    print(\"a is b\")\n",
    "else:\n",
    "    print(\"a is not b\")"
   ]
  },
  {
   "cell_type": "markdown",
   "id": "bb3dd5a7-2392-4117-b5c9-42a36d95be87",
   "metadata": {},
   "source": [
    "## Loops"
   ]
  },
  {
   "cell_type": "code",
   "execution_count": 100,
   "id": "1d8a3707-f81a-41ce-adb8-141ed5c06cee",
   "metadata": {},
   "outputs": [
    {
     "name": "stdout",
     "output_type": "stream",
     "text": [
      "0\n",
      "2\n",
      "4\n"
     ]
    }
   ],
   "source": [
    "# simple for loop\n",
    "for i in range(0,5,2):\n",
    "    print(i)\n"
   ]
  },
  {
   "cell_type": "code",
   "execution_count": 101,
   "id": "e75dd214-26d7-48e0-bd7e-b9890b6d3bed",
   "metadata": {},
   "outputs": [
    {
     "name": "stdout",
     "output_type": "stream",
     "text": [
      "0\n",
      "1\n",
      "2\n"
     ]
    }
   ],
   "source": [
    "# break the loop\n",
    "for i in range(5):\n",
    "    if i == 3:\n",
    "        break\n",
    "    print(i)\n"
   ]
  },
  {
   "cell_type": "code",
   "execution_count": 102,
   "id": "bba51ede-704f-4ab1-b923-0041b6020c33",
   "metadata": {},
   "outputs": [
    {
     "name": "stdout",
     "output_type": "stream",
     "text": [
      "0\n",
      "1\n",
      "2\n",
      "4\n"
     ]
    }
   ],
   "source": [
    "# continue the loop\n",
    "for i in range(5):\n",
    "    if i == 3:\n",
    "        continue\n",
    "    print(i)\n"
   ]
  },
  {
   "cell_type": "code",
   "execution_count": 104,
   "id": "f245bd62-8744-4b07-bee3-f3b79ddb4f99",
   "metadata": {},
   "outputs": [
    {
     "name": "stdout",
     "output_type": "stream",
     "text": [
      "Red\n",
      "Blue\n",
      "Green\n",
      "Orange\n"
     ]
    }
   ],
   "source": [
    "colors = ['Red','Blue','Green','Orange']\n",
    "for i in range(len(colors)):\n",
    "    print(colors[i])"
   ]
  },
  {
   "cell_type": "code",
   "execution_count": 103,
   "id": "9c48d60a-907f-4080-b5ce-5b9aa2e8b89d",
   "metadata": {},
   "outputs": [
    {
     "name": "stdout",
     "output_type": "stream",
     "text": [
      "Red\n",
      "Blue\n",
      "Green\n",
      "Orange\n"
     ]
    }
   ],
   "source": [
    "colors = ['Red','Blue','Green','Orange']\n",
    "for color in colors:\n",
    "    print(color)"
   ]
  },
  {
   "cell_type": "code",
   "execution_count": 105,
   "id": "e41df13d-91b4-44f8-8cde-366c1a6b08c0",
   "metadata": {},
   "outputs": [
    {
     "name": "stdout",
     "output_type": "stream",
     "text": [
      "{1: 'Red'}\n",
      "{2: 'Blue'}\n",
      "{3: 'Green'}\n"
     ]
    }
   ],
   "source": [
    "colors_dict_array = [{1:'Red'},{2:'Blue'},{3:'Green'}]\n",
    "for color_dict in colors_dict_array:\n",
    "    print(color_dict)"
   ]
  },
  {
   "cell_type": "code",
   "execution_count": 107,
   "id": "b1ed0b6d-a996-4a69-ac8e-c7cfa09059ed",
   "metadata": {},
   "outputs": [
    {
     "name": "stdout",
     "output_type": "stream",
     "text": [
      "0\n",
      "3\n",
      "6\n",
      "9\n"
     ]
    }
   ],
   "source": [
    "count = 0\n",
    "while count < 10:\n",
    "    print(count)\n",
    "    count += 3"
   ]
  },
  {
   "cell_type": "markdown",
   "id": "432709c8-8c90-4835-8eac-c03637e1ce41",
   "metadata": {},
   "source": [
    "## Functions"
   ]
  },
  {
   "cell_type": "markdown",
   "id": "3b024ab0-97ce-42a6-b67e-7afba31b9c1c",
   "metadata": {},
   "source": [
    "A function is a block of code that runs only when it is called"
   ]
  },
  {
   "cell_type": "code",
   "execution_count": 109,
   "id": "6fc3b59c-d5a7-4c0e-9f52-4394d4d02b45",
   "metadata": {},
   "outputs": [],
   "source": [
    "# simple function\n",
    "def print_message(message):\n",
    "    print(message)\n"
   ]
  },
  {
   "cell_type": "code",
   "execution_count": 110,
   "id": "95bd021b-36e0-490d-8dbd-be3545d06f4b",
   "metadata": {},
   "outputs": [
    {
     "name": "stdout",
     "output_type": "stream",
     "text": [
      "Hello there\n"
     ]
    }
   ],
   "source": [
    "print_message(\"Hello there\")"
   ]
  },
  {
   "cell_type": "code",
   "execution_count": 111,
   "id": "12553e0c-2468-4899-a1ab-5f33c7775024",
   "metadata": {},
   "outputs": [],
   "source": [
    "def isEven(number):\n",
    "    return number % 2 == 0"
   ]
  },
  {
   "cell_type": "code",
   "execution_count": 113,
   "id": "9eab7231-ac95-4ecf-8c0b-103c662726bc",
   "metadata": {},
   "outputs": [
    {
     "data": {
      "text/plain": [
       "True"
      ]
     },
     "execution_count": 113,
     "metadata": {},
     "output_type": "execute_result"
    }
   ],
   "source": [
    "isEven(4)"
   ]
  },
  {
   "cell_type": "markdown",
   "id": "27f69395-e660-4faf-a43d-34b10128189c",
   "metadata": {},
   "source": [
    "### Lambda"
   ]
  },
  {
   "cell_type": "markdown",
   "id": "a9b2efcb-9d35-4f96-ab63-084890dd3959",
   "metadata": {},
   "source": [
    "Lambda function is a small anonymous function<br>\n",
    "it can take any number of parameters, but can only have single expression"
   ]
  },
  {
   "cell_type": "code",
   "execution_count": 114,
   "id": "540ccfc1-2050-416d-81e7-9ecbfc08534e",
   "metadata": {},
   "outputs": [
    {
     "data": {
      "text/plain": [
       "30"
      ]
     },
     "execution_count": 114,
     "metadata": {},
     "output_type": "execute_result"
    }
   ],
   "source": [
    "func = lambda number1,number2: number1 * number2\n",
    "func(5,6)"
   ]
  },
  {
   "cell_type": "markdown",
   "id": "22cb8385-b800-45fa-b3f2-5937003619f8",
   "metadata": {},
   "source": [
    "## Class"
   ]
  },
  {
   "cell_type": "code",
   "execution_count": 135,
   "id": "93c8895c-0fe9-4967-a41f-913f787ad137",
   "metadata": {},
   "outputs": [],
   "source": [
    "# no underscore is public\n",
    "# _ is protected\n",
    "# __ is private\n",
    "class Person:\n",
    "    # constructor\n",
    "    def __init__(self,first_name,last_name,age):\n",
    "        self.first_name = first_name\n",
    "        self.last_name = last_name\n",
    "        self.age = age\n",
    "        self._year_of_birth = 2025 - age\n",
    "        \n",
    "    def say_hello(self):\n",
    "        return f\"Hello {self.first_name},{self.last_name}, you are born in {self._year_of_birth}\""
   ]
  },
  {
   "cell_type": "code",
   "execution_count": 136,
   "id": "4bc01e0a-c217-452a-bc9f-b4bc4507063b",
   "metadata": {},
   "outputs": [
    {
     "name": "stdout",
     "output_type": "stream",
     "text": [
      "Hello Developers,Heaven, you are born in 2015\n"
     ]
    }
   ],
   "source": [
    "p = Person(first_name=\"Developers\",last_name=\"Heaven\",age=10)\n",
    "print(p.say_hello())"
   ]
  },
  {
   "cell_type": "code",
   "execution_count": 139,
   "id": "2d16d551-5918-4fcd-903a-57b14070a380",
   "metadata": {},
   "outputs": [],
   "source": [
    "class Student(Person):\n",
    "    def __init__(self,first_name,last_name,age):\n",
    "        Person.__init__(self,first_name,last_name,age)\n",
    "\n",
    "    def say_hello(self):\n",
    "        return f\"Hello {self.first_name},{self.last_name}, you are born in {self._year_of_birth}\""
   ]
  },
  {
   "cell_type": "code",
   "execution_count": 140,
   "id": "2dc8b45c-2d5c-4d7e-8bb7-d2ce05bce019",
   "metadata": {},
   "outputs": [
    {
     "data": {
      "text/plain": [
       "'Hello Developers,Heaven, you are born in 2015'"
      ]
     },
     "execution_count": 140,
     "metadata": {},
     "output_type": "execute_result"
    }
   ],
   "source": [
    "s = Student(first_name=\"Developers\",last_name=\"Heaven\",age=10)\n",
    "s.say_hello()\n"
   ]
  },
  {
   "cell_type": "markdown",
   "id": "6fcda6f5-37a7-496c-a2c0-da81a701dd6f",
   "metadata": {},
   "source": [
    "## Modules"
   ]
  },
  {
   "cell_type": "code",
   "execution_count": 141,
   "id": "23180eac-6078-4c8f-b406-8b2639d8297f",
   "metadata": {},
   "outputs": [
    {
     "data": {
      "text/plain": [
       "datetime.date(2025, 3, 13)"
      ]
     },
     "execution_count": 141,
     "metadata": {},
     "output_type": "execute_result"
    }
   ],
   "source": [
    "from datetime import date\n",
    "date.today()"
   ]
  },
  {
   "cell_type": "code",
   "execution_count": 142,
   "id": "07031181-59d6-40ed-bbf9-f7fc27964f7c",
   "metadata": {},
   "outputs": [
    {
     "data": {
      "text/plain": [
       "1741860647.893201"
      ]
     },
     "execution_count": 142,
     "metadata": {},
     "output_type": "execute_result"
    }
   ],
   "source": [
    "from time import time\n",
    "time()"
   ]
  },
  {
   "cell_type": "code",
   "execution_count": 143,
   "id": "5be7bd3d-1199-4425-948e-f25647e16b3e",
   "metadata": {},
   "outputs": [],
   "source": [
    "import sqlite3"
   ]
  },
  {
   "cell_type": "code",
   "execution_count": null,
   "id": "d703c951-229d-4c0d-b99d-6f9f4358eafe",
   "metadata": {},
   "outputs": [],
   "source": []
  }
 ],
 "metadata": {
  "kernelspec": {
   "display_name": "Python 3 (ipykernel)",
   "language": "python",
   "name": "python3"
  },
  "language_info": {
   "codemirror_mode": {
    "name": "ipython",
    "version": 3
   },
   "file_extension": ".py",
   "mimetype": "text/x-python",
   "name": "python",
   "nbconvert_exporter": "python",
   "pygments_lexer": "ipython3",
   "version": "3.11.9"
  }
 },
 "nbformat": 4,
 "nbformat_minor": 5
}
